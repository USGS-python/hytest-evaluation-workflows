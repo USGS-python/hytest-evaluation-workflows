{
 "cells": [
  {
   "cell_type": "markdown",
   "id": "c23cabac-5a21-48d0-b7b1-e36671f0a718",
   "metadata": {},
   "source": [
    "# HyTest Hydrologic Model Assessment Viz"
   ]
  },
  {
   "cell_type": "code",
   "execution_count": null,
   "id": "50e506b5-7340-4545-ba9d-480f02435e8a",
   "metadata": {},
   "outputs": [],
   "source": [
    "import pandas as pd\n",
    "import hvplot.pandas\n",
    "import panel as pn\n",
    "from geoviews import tile_sources as gvts\n",
    "import intake"
   ]
  },
  {
   "cell_type": "code",
   "execution_count": null,
   "id": "7f6ee59d-d7dc-4d7b-9744-3f1fbf6009db",
   "metadata": {},
   "outputs": [],
   "source": [
    "url = 'https://raw.githubusercontent.com/nhm-usgs/data-pipeline-helpers/main/hytest/hytest_intake_catalog.yml'\n",
    "cat = intake.open_catalog(url)\n",
    "list(cat)"
   ]
  },
  {
   "cell_type": "code",
   "execution_count": null,
   "id": "a3b6cf68-c3de-4a7d-a984-d9849b3e65c5",
   "metadata": {},
   "outputs": [],
   "source": [
    "df1 = cat['nwm21-scores'].read()\n",
    "df1 = df1.rename(columns={'index':'site_no'} )"
   ]
  },
  {
   "cell_type": "code",
   "execution_count": null,
   "id": "5455dee2-6a1f-4645-87a8-49fe2fa58d20",
   "metadata": {},
   "outputs": [],
   "source": [
    "df1"
   ]
  },
  {
   "cell_type": "code",
   "execution_count": null,
   "id": "06db0f12-a1d0-4c48-bd19-96d3039d279f",
   "metadata": {},
   "outputs": [],
   "source": [
    "#df1 = pd.read_csv('https://raw.githubusercontent.com/nhm-usgs/data-pipeline-helpers/main/hytest/results/nwm_ref_gages_assessment.csv')"
   ]
  },
  {
   "cell_type": "code",
   "execution_count": null,
   "id": "34ea3d97-7943-4f0e-ae1e-d47146ea7888",
   "metadata": {},
   "outputs": [],
   "source": [
    "var_select = pn.widgets.Select(name='Metric', options=list(df1.columns[1:-2]), \n",
    "                               value='pearson_r')"
   ]
  },
  {
   "cell_type": "code",
   "execution_count": null,
   "id": "e18c5d5a-ebe2-4da5-8d82-4584d40d828c",
   "metadata": {},
   "outputs": [],
   "source": [
    "base_map_select = pn.widgets.Select(name='Basemap:', \n",
    "                                    options=list(gvts.tile_sources.keys()), \n",
    "                                    value='OSM')"
   ]
  },
  {
   "cell_type": "code",
   "execution_count": null,
   "id": "b977feab-93bd-4111-b7fe-1a5d0c5719e3",
   "metadata": {},
   "outputs": [],
   "source": [
    "@pn.depends(var_select, base_map_select)\n",
    "\n",
    "def plot(var, base_map):\n",
    "    return df1.hvplot.points(x='Lon', y='Lat', color=var, cmap='turbo_r', geo=True, tiles=base_map)"
   ]
  },
  {
   "cell_type": "code",
   "execution_count": null,
   "id": "3da934c1-c1e0-4ba7-8401-941e591a17cb",
   "metadata": {},
   "outputs": [],
   "source": [
    "col = pn.Column(var_select, base_map_select, plot)"
   ]
  },
  {
   "cell_type": "code",
   "execution_count": null,
   "id": "dbce14c1-87f0-4b57-9c4c-2925a0f71b9c",
   "metadata": {},
   "outputs": [],
   "source": [
    "col.servable('Hydro Assessment Tool')"
   ]
  },
  {
   "cell_type": "code",
   "execution_count": null,
   "id": "8f5d12fd-9fa9-4983-999a-7ef2c3e9e649",
   "metadata": {},
   "outputs": [],
   "source": []
  },
  {
   "cell_type": "code",
   "execution_count": null,
   "id": "f95e3b13-4752-47c7-85dc-9c4da65fa18e",
   "metadata": {},
   "outputs": [],
   "source": []
  }
 ],
 "metadata": {
  "kernelspec": {
   "display_name": "Python 3 (ipykernel)",
   "language": "python",
   "name": "python3"
  },
  "language_info": {
   "codemirror_mode": {
    "name": "ipython",
    "version": 3
   },
   "file_extension": ".py",
   "mimetype": "text/x-python",
   "name": "python",
   "nbconvert_exporter": "python",
   "pygments_lexer": "ipython3",
   "version": "3.10.4"
  },
  "widgets": {
   "application/vnd.jupyter.widget-state+json": {
    "state": {},
    "version_major": 2,
    "version_minor": 0
   }
  }
 },
 "nbformat": 4,
 "nbformat_minor": 5
}
